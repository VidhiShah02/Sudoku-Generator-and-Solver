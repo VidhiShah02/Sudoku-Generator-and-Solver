{
 "cells": [
  {
   "cell_type": "markdown",
   "metadata": {},
   "source": [
    "#                           Sudoku Generator and Solver\n",
    "#### It mainly consists of two modulo : \n",
    "    1. Sudoku Generator\n",
    "    2. Sudoku Solver"
   ]
  },
  {
   "cell_type": "markdown",
   "metadata": {},
   "source": [
    "#### Import the necassary libraries like:\n",
    "   1. numpy-NumPy, which stands for Numerical Python, is a library consisting of multidimensional array objects and a                       collection of routines for processing those arrays\n",
    "   2. random-Python Random Module Previous Next Python has a built-in module that you can use to make random numbers"
   ]
  },
  {
   "cell_type": "code",
   "execution_count": 22,
   "metadata": {},
   "outputs": [],
   "source": [
    "import numpy as np\n",
    "import random as rd"
   ]
  },
  {
   "cell_type": "markdown",
   "metadata": {},
   "source": [
    "#### Sudoku Game Constraints:\n",
    "    1.In all 9 sub matrices 3×3 the elements should be 1-9, without repetition.\n",
    "    2.In all rows there should be elements between 1-9 , without repetition.\n",
    "    3.In all columns there should be elements between 1-9 , without repetition.\n",
    "\n",
    "    "
   ]
  },
  {
   "cell_type": "markdown",
   "metadata": {},
   "source": [
    "## Sudoku Generator\n",
    "The task is to generate a 9 x 9 Suduku grid that is valid, i.e., a player can fill the grid following above set of rules."
   ]
  },
  {
   "cell_type": "markdown",
   "metadata": {},
   "source": [
    "#### A simple naive solution can be:\n",
    "    1.Randomly take any number 1-9.\n",
    "    2.Check if it is safe to put in the cell.(row , column and box)\n",
    "    3.If safe, place it and increment to next location and go to step 1.\n",
    "    4.If not safe, then without incrementing go to step 1."
   ]
  },
  {
   "cell_type": "code",
   "execution_count": 23,
   "metadata": {},
   "outputs": [],
   "source": [
    "def MakeSudoku():                                        #MakeSudoku function is to declare and instantiate the sudoku grid \n",
    "    global Grid                                          #Declaring Grid \"global\" make it easy to access and call at any point of the program  \n",
    "    Grid=[[0 for y in range(0,9)] for x in range(0,9)]   #It is decalaration of list named Grid\n",
    "                                                         #The reason behind using list is ,it allow to create mutable objects     \n",
    "    for i in range(0,9):                                 #Range function is used to get range syntax:range(start,stop) ,where highest limit is excluded \n",
    "        for j in range(0,9):                             #Nested for loop is used because working with  2-D list i.e 9x9\n",
    "            Grid[i][j] = 0                               #Assigning value \" 0 \" to every value in the list\n",
    "            \n",
    "    for i in range(0,rd.randrange(5,15)):                #Range specifies the number of given values one wish to have in Sudoku grid\n",
    "                                                         #row and col defines the row number and column number\n",
    "        row=rd.randrange(0,9)                            #randrange is used to generate any random number between given range.Syntax:random.randrange(start,stop)\n",
    "                                                         #excluding the highest limit\n",
    "        col=rd.randrange(0,9)\n",
    "        num=rd.randrange(1,10)\n",
    "        while(not possible(Grid,row,col,num) or Grid[row][col]!=0 ):        #calling while function and check the given condition\n",
    "                                                                            #if the possible function returns true or the value in the cell is not \"0\" then while gets true and loop continues until\n",
    "                                                                            #while condition is true            \n",
    "            row=rd.randrange(0,9)\n",
    "            col=rd.randrange(0,9)\n",
    "            num=rd.randrange(1,10)\n",
    "              \n",
    "        Grid[row][col]=num;                               #adding the value to the given row and column number \n",
    "        \n",
    "    PrintGrid(Grid)                                      #calling PrintGrid function to print the sudoku list in a definate format\n",
    "            \n",
    "\n",
    "\n",
    "def PrintGrid(Grid):                                     #given function take the Grid list as a parameter\n",
    "    TableTB = \"|--------------------------------|\"      #provides the table border \n",
    "    TableMD = \"|----------+----------+----------|\"       #provides the middle border\n",
    "    print(TableTB)\n",
    "                                                         #given below nested for loop is used to design \n",
    "    for y in range(0,9):\n",
    "        for x in range(0,9):\n",
    "            if ((y == 3 or y == 6) and x == 0):          # if one or two matrix of 9 elements is completed(row-wise) or starting of the matrix\n",
    "                print(TableMD)\n",
    "            if (x == 0 or x == 3 or x== 6):              # if one or two matrix of 9 elements is completed(column-wise) or starting of the matrix\n",
    "                print(\"|\", end=\" \")\n",
    "            print(\" \" + str(Grid[y][x]),end=\" \")\n",
    "            if (x == 8):\n",
    "                print(\"|\")\n",
    "    print(TableTB)\n",
    "    \n",
    "def possible(Grid,y,x,n):                                #Given function possible() checks whether the given value can be instered on the given position\n",
    "                                                         #takes 4 input parameters Grid (list),y(rows),x(colmuns),num(number to be instered)\n",
    "                                                         #checks whether the given number is present in that row\n",
    "    for i in range(0,9):\n",
    "        if Grid[y][i]==n:                                #if present than return false\n",
    "            return False \n",
    "                                                         #checks whether the given number is present in that column\n",
    "    for i in range(0,9):\n",
    "         if Grid[i][x]==n:                               #if present than return false\n",
    "                return False  \n",
    "                                                         #checks whether the given number is present in its matrix or box\n",
    "    X=(x//3)*3\n",
    "    Y=(y//3)*3\n",
    "    for i in range(0,3):\n",
    "                for j in range(0,3):\n",
    "                    if Grid[Y+i][X+j]==n:\n",
    "                        return False                     #if present return false else return true \n",
    "                    else:\n",
    "                        return True                      #true means it is possible to insert number(num) in the given position\n",
    "                    \n",
    "\n",
    "   "
   ]
  },
  {
   "cell_type": "code",
   "execution_count": 24,
   "metadata": {},
   "outputs": [
    {
     "name": "stdout",
     "output_type": "stream",
     "text": [
      "|--------------------------------|\n",
      "|  0  0  0 |  0  0  7 |  0  0  0 |\n",
      "|  0  2  0 |  0  0  0 |  0  0  0 |\n",
      "|  5  0  0 |  0  0  0 |  7  1  0 |\n",
      "|----------+----------+----------|\n",
      "|  0  0  0 |  0  5  0 |  0  0  0 |\n",
      "|  0  0  0 |  0  0  0 |  0  0  0 |\n",
      "|  0  0  0 |  0  0  0 |  0  0  0 |\n",
      "|----------+----------+----------|\n",
      "|  0  0  0 |  5  0  0 |  0  0  0 |\n",
      "|  0  8  0 |  0  0  0 |  0  3  6 |\n",
      "|  0  0  0 |  0  0  0 |  3  0  0 |\n",
      "|--------------------------------|\n"
     ]
    }
   ],
   "source": [
    "MakeSudoku()                                            #Everytime it generates  a different grids \n"
   ]
  },
  {
   "cell_type": "markdown",
   "metadata": {},
   "source": [
    "## Sudoku Solver \n",
    "The task is to solve a 9 x 9 Suduku grid that is valid, i.e.,can fill the grid following  set of rules."
   ]
  },
  {
   "cell_type": "code",
   "execution_count": 25,
   "metadata": {},
   "outputs": [],
   "source": [
    "def solve():                                            #given function is used as sudoku solver\n",
    "                                                        #The function solve is to generate the solution for the problem \n",
    "                                                        #Since we are working with 9x9 list ,we will use nested for loop\n",
    "    for y in range(0,9):\n",
    "        for x in range(0,9):\n",
    "            if Grid[y][x]==0:                          #If condition will be checked.If the given position has \"0\" as its value or not\n",
    "                                                       #If yes then enter in the for loop which ranges 1 to 10,where 10 is excluded\n",
    "                for n in range(1,10):\n",
    "                    if possible(Grid,y,x,n):           #If the possible function returns true ,result if condition also be true\n",
    "                        Grid[y][x]=n                   #Since possible returns true means the given number can be placed at given postion\n",
    "                        solve()                        #Once the position is filled ,will recursively call solve() function \n",
    "                                                       #until all the places are filled                        "
   ]
  },
  {
   "cell_type": "code",
   "execution_count": 26,
   "metadata": {},
   "outputs": [],
   "source": [
    "solve()                                                 #It gives the solution of generated grid "
   ]
  },
  {
   "cell_type": "code",
   "execution_count": 27,
   "metadata": {},
   "outputs": [
    {
     "name": "stdout",
     "output_type": "stream",
     "text": [
      "|--------------------------------|\n",
      "|  1  3  2 |  4  6  7 |  5  8  9 |\n",
      "|  3  2  4 |  1  7  5 |  6  9  8 |\n",
      "|  5  4  9 |  2  8  6 |  7  1  0 |\n",
      "|----------+----------+----------|\n",
      "|  2  1  6 |  9  5  4 |  8  7  0 |\n",
      "|  4  5  7 |  6  2  8 |  9  0  3 |\n",
      "|  6  7  5 |  8  9  2 |  4  0  0 |\n",
      "|----------+----------+----------|\n",
      "|  7  6  8 |  5  3  9 |  2  4  1 |\n",
      "|  9  8  0 |  7  4  0 |  1  3  6 |\n",
      "|  8  9  0 |  0  0  1 |  3  6  7 |\n",
      "|--------------------------------|\n"
     ]
    }
   ],
   "source": [
    "PrintGrid(Grid)                                         #To print the ultimate solution Grid"
   ]
  },
  {
   "cell_type": "markdown",
   "metadata": {},
   "source": [
    "### Pros and Cons of Sudoku Generator and Solver:\n",
    "   ## Pros:\n",
    "         1.Everytime a new Grid is generated \n",
    "         2.It can generate Grid of every level\n",
    "         3.One can modify the number of elements to be previoulsy present in the Grid\n",
    "         4.The solution obtain is feasible\n",
    "   ## Cons:\n",
    "         1.The solution obtain may not be optimal always\n",
    "         2.It may not give optimal solution for the harder Sudoku Grid\n",
    "            \n"
   ]
  }
 ],
 "metadata": {
  "kernelspec": {
   "display_name": "Python 3",
   "language": "python",
   "name": "python3"
  },
  "language_info": {
   "codemirror_mode": {
    "name": "ipython",
    "version": 3
   },
   "file_extension": ".py",
   "mimetype": "text/x-python",
   "name": "python",
   "nbconvert_exporter": "python",
   "pygments_lexer": "ipython3",
   "version": "3.8.5"
  }
 },
 "nbformat": 4,
 "nbformat_minor": 4
}
